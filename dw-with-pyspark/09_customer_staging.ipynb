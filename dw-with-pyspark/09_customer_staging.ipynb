{
 "cells": [
  {
   "cell_type": "code",
   "execution_count": 1,
   "id": "96b2d324-37f2-41f0-9c0e-a2d568520275",
   "metadata": {},
   "outputs": [],
   "source": [
    "# Script to create date for Dimesion Staging"
   ]
  },
  {
   "cell_type": "code",
   "execution_count": 18,
   "id": "53fef2fc-a95c-449a-931e-9d0f17d9fddc",
   "metadata": {},
   "outputs": [],
   "source": [
    "# Import required libraries\n",
    "import sys\n",
    "from lib.spark_session import get_spark_session\n",
    "from lib.utils import date_data, get_string_cols\n",
    "from lib.job_control import insert_log, get_max_timestamp\n",
    "from pyspark.sql import SparkSession, DataFrame\n",
    "from pyspark.sql.functions import current_timestamp, expr, to_date, lit, split, to_timestamp, coalesce\n",
    "from datetime import datetime\n",
    "from delta import DeltaTable"
   ]
  },
  {
   "cell_type": "code",
   "execution_count": 3,
   "id": "7fdaf04b-adae-4b1c-8361-d4d13c6107ca",
   "metadata": {},
   "outputs": [],
   "source": [
    "# JOB Parameters\n",
    "rundate = \"20220101\"\n",
    "schema_name = \"edw_stg\"\n",
    "table_name = \"dim_customer_stg\"\n",
    "table_full_name = f\"{schema_name}.{table_name}\"\n",
    "landing_table_full_name = \"edw_ld.dim_customer_ld\""
   ]
  },
  {
   "cell_type": "code",
   "execution_count": 4,
   "id": "9577b9bf-5fc6-49a7-96cb-0a06e450eba5",
   "metadata": {},
   "outputs": [
    {
     "name": "stdout",
     "output_type": "stream",
     "text": [
      "SPARK_APP: Spark UI - http://46346aae9d54:4040\n"
     ]
    }
   ],
   "source": [
    "# Generate Spark Session\n",
    "spark: SparkSession = get_spark_session(f\"Staging load - {table_full_name}\")\n",
    "print(\"SPARK_APP: Spark UI - \" + spark.sparkContext.uiWebUrl)"
   ]
  },
  {
   "cell_type": "code",
   "execution_count": 5,
   "id": "02c08d5b-0f7e-4f81-9dfd-06513fd6cb17",
   "metadata": {},
   "outputs": [],
   "source": [
    "# Spark Configs\n",
    "spark.conf.set(\"spark.sql.shuffle.partitions\", 8)\n",
    "spark.conf.set(\"spark.sql.parquet.mergeSchema\", True)"
   ]
  },
  {
   "cell_type": "code",
   "execution_count": 6,
   "id": "3f5a971a-ca83-4bb5-ad24-b1a3064be350",
   "metadata": {},
   "outputs": [
    {
     "name": "stdout",
     "output_type": "stream",
     "text": [
      "SPARK_APP: Max timestamp for staging data load - 1900-01-01 00:00:00.000000\n"
     ]
    }
   ],
   "source": [
    "# Get the max_timestamp for data load in staging\n",
    "max_timestamp = get_max_timestamp(spark, schema_name, table_name)\n",
    "print(\"SPARK_APP: Max timestamp for staging data load - \" + max_timestamp)"
   ]
  },
  {
   "cell_type": "code",
   "execution_count": 7,
   "id": "18a2f1de-dbe2-47fe-9863-c016c5504695",
   "metadata": {},
   "outputs": [
    {
     "name": "stdout",
     "output_type": "stream",
     "text": [
      "SPARK_APP: Landing Data Count - 19\n",
      "SPARK_APP: Printing Landing Schema --\n",
      "root\n",
      " |-- customer_id: string (nullable = true)\n",
      " |-- name: string (nullable = true)\n",
      " |-- address: string (nullable = true)\n",
      " |-- city: string (nullable = true)\n",
      " |-- state: string (nullable = true)\n",
      " |-- zip_code: string (nullable = true)\n",
      " |-- phone_number: string (nullable = true)\n",
      " |-- email: string (nullable = true)\n",
      " |-- date_of_birth: string (nullable = true)\n",
      " |-- plan_type: string (nullable = true)\n",
      " |-- insert_dt: timestamp (nullable = true)\n",
      " |-- rundate: string (nullable = true)\n",
      "\n"
     ]
    }
   ],
   "source": [
    "# Read data from landing based on max timestamp\n",
    "df_ld = spark \\\n",
    "    .read \\\n",
    "    .table(landing_table_full_name) \\\n",
    "    .where(f\"insert_dt > to_timestamp('{max_timestamp}')\")\n",
    "\n",
    "print(\"SPARK_APP: Landing Data Count - \" + str(df_ld.count()))\n",
    "print(\"SPARK_APP: Printing Landing Schema --\")\n",
    "df_ld.printSchema()"
   ]
  },
  {
   "cell_type": "code",
   "execution_count": 8,
   "id": "ab08f5df-1791-4bfb-9b51-25eefec4dc31",
   "metadata": {},
   "outputs": [
    {
     "name": "stdout",
     "output_type": "stream",
     "text": [
      "SPARK_APP: Landing Data Count after de-dupe - 19\n"
     ]
    }
   ],
   "source": [
    "# De-dupe the data based on NK\n",
    "df_dedupe = df_ld.withColumn(\"_rnk\", expr(f\"row_number() over (partition by customer_id order by insert_dt desc)\")) \\\n",
    "    .where(\"_rnk = 1\").drop(\"_rnk\")\n",
    "\n",
    "print(\"SPARK_APP: Landing Data Count after de-dupe - \" + str(df_dedupe.count()))"
   ]
  },
  {
   "cell_type": "code",
   "execution_count": 21,
   "id": "a1e807f6-64c2-4578-8d5b-8b64c0a25930",
   "metadata": {},
   "outputs": [
    {
     "name": "stdout",
     "output_type": "stream",
     "text": [
      "SPARK_APP: Staging Data Count - 19\n",
      "SPARK_APP: Printing Staging Schema --\n",
      "root\n",
      " |-- customer_id: string (nullable = true)\n",
      " |-- name: string (nullable = true)\n",
      " |-- address: string (nullable = true)\n",
      " |-- city: string (nullable = true)\n",
      " |-- state: string (nullable = true)\n",
      " |-- zip_code: string (nullable = true)\n",
      " |-- phone_number: string (nullable = true)\n",
      " |-- email: string (nullable = true)\n",
      " |-- date_of_birth: date (nullable = true)\n",
      " |-- plan_type: string (nullable = false)\n",
      " |-- insert_dt: timestamp (nullable = false)\n",
      " |-- rundate: string (nullable = true)\n",
      " |-- first_name: string (nullable = true)\n",
      " |-- last_name: string (nullable = true)\n",
      " |-- effective_start_dt: timestamp (nullable = false)\n",
      " |-- effective_end_dt: timestamp (nullable = true)\n",
      " |-- active_flg: integer (nullable = false)\n",
      " |-- update_dt: timestamp (nullable = false)\n",
      "\n"
     ]
    }
   ],
   "source": [
    "# Format the landing data\n",
    "df_stg = df_dedupe \\\n",
    "    .withColumn(\"first_name\", split(\"name\", \" \")[0]) \\\n",
    "    .withColumn(\"last_name\", split(\"name\", \" \")[0]) \\\n",
    "    .withColumn(\"date_of_birth\", to_date(\"date_of_birth\", \"dd-MM-yyyy\")) \\\n",
    "    .withColumn(\"plan_type\", coalesce(\"plan_type\", \"plan_type\", lit(\"NA\"))) \\\n",
    "    .withColumn(\"effective_start_dt\", current_timestamp()) \\\n",
    "    .withColumn(\"effective_end_dt\", to_timestamp(lit(\"9999-12-31 00:00:00.000000\"))) \\\n",
    "    .withColumn(\"active_flg\", lit(1)) \\\n",
    "    .withColumn(\"insert_dt\", current_timestamp()) \\\n",
    "    .withColumn(\"update_dt\", current_timestamp()) \n",
    "\n",
    "print(\"SPARK_APP: Staging Data Count - \" + str(df_stg.count()))\n",
    "print(\"SPARK_APP: Printing Staging Schema --\")\n",
    "df_stg.printSchema()"
   ]
  },
  {
   "cell_type": "code",
   "execution_count": 23,
   "id": "db8993e0-5cb9-433b-8f97-f3edab7e698d",
   "metadata": {},
   "outputs": [
    {
     "name": "stdout",
     "output_type": "stream",
     "text": [
      "SPARK_APP: Data written to staging table\n"
     ]
    }
   ],
   "source": [
    "# Check and Write the data to Staging table in overwrite mode for truncate\n",
    "if max_timestamp != \"1900-01-01 00:00:00.000000\": \n",
    "    df_stg.write \\\n",
    "        .format(\"delta\") \\\n",
    "        .mode(\"overwrite\") \\\n",
    "        .saveAsTable(table_full_name)\n",
    "else:\n",
    "    df_stg.write \\\n",
    "        .format(\"delta\") \\\n",
    "        .saveAsTable(table_full_name)\n",
    "\n",
    "print(\"SPARK_APP: Data written to staging table\")"
   ]
  },
  {
   "cell_type": "code",
   "execution_count": 24,
   "id": "0bde40e8-911b-4a60-b1d2-8ade42c09db9",
   "metadata": {},
   "outputs": [
    {
     "name": "stdout",
     "output_type": "stream",
     "text": [
      "SPARK_APP: Update JOB Control Log\n"
     ]
    }
   ],
   "source": [
    "# Add job details in JOB CONTROL\n",
    "insert_log(spark, schema_name, table_name, datetime.now(), rundate)\n",
    "print(\"SPARK_APP: Update JOB Control Log\")"
   ]
  },
  {
   "cell_type": "code",
   "execution_count": 25,
   "id": "07da8e0e-1682-46bc-bb00-6c8ee2f1923d",
   "metadata": {},
   "outputs": [
    {
     "name": "stdout",
     "output_type": "stream",
     "text": [
      "+-----------+----------------+--------------------------+--------+--------------------------+\n",
      "|schema_name|table_name      |max_timestamp             |rundate |insert_dt                 |\n",
      "+-----------+----------------+--------------------------+--------+--------------------------+\n",
      "|edw_stg    |dim_customer_stg|2023-02-06 11:26:44.255605|20220101|2023-02-06 11:26:44.633004|\n",
      "+-----------+----------------+--------------------------+--------+--------------------------+\n",
      "\n"
     ]
    }
   ],
   "source": [
    "spark.sql(f\"select * from edw.job_control where table_name = '{table_name}' order by insert_dt desc limit 1\").show(truncate=False)"
   ]
  },
  {
   "cell_type": "code",
   "execution_count": 26,
   "id": "f9eca5be-9aaa-4045-a493-d3d908d7f4f7",
   "metadata": {},
   "outputs": [
    {
     "name": "stdout",
     "output_type": "stream",
     "text": [
      "+-------+---------------+---------------------+--------------------+-------------+\n",
      "|version|executionTimeMs|numTargetRowsInserted|numTargetRowsUpdated|numOutputRows|\n",
      "+-------+---------------+---------------------+--------------------+-------------+\n",
      "|0      |null           |null                 |null                |19           |\n",
      "+-------+---------------+---------------------+--------------------+-------------+\n",
      "\n"
     ]
    }
   ],
   "source": [
    "# Get the logs from delta table version\n",
    "dt = DeltaTable.forName(spark, table_full_name)\n",
    "dt.history().limit(1).select(\"version\",\"operationMetrics.executionTimeMs\", \n",
    "                                 \"operationMetrics.numTargetRowsInserted\",\n",
    "                                \"operationMetrics.numTargetRowsUpdated\",\n",
    "                                \"operationMetrics.numOutputRows\").show(1, False)"
   ]
  },
  {
   "cell_type": "code",
   "execution_count": 27,
   "id": "15c885cd-0ed1-4377-9f18-c20e3c3de0a6",
   "metadata": {},
   "outputs": [
    {
     "name": "stdout",
     "output_type": "stream",
     "text": [
      "SPARK_APP: Symlink Manifest file generated\n"
     ]
    }
   ],
   "source": [
    "# Generate Symlink manifest for Athena Access\n",
    "dt.generate(\"symlink_format_manifest\")\n",
    "print(\"SPARK_APP: Symlink Manifest file generated\")"
   ]
  },
  {
   "cell_type": "code",
   "execution_count": 28,
   "id": "ec87f5b4-ab4d-4441-9e3c-dc78f16b9b48",
   "metadata": {},
   "outputs": [],
   "source": [
    "spark.stop()"
   ]
  },
  {
   "cell_type": "code",
   "execution_count": null,
   "id": "6d72015f-82df-4891-86dd-7beda3d4c407",
   "metadata": {},
   "outputs": [],
   "source": []
  }
 ],
 "metadata": {
  "kernelspec": {
   "display_name": "Python 3 (ipykernel)",
   "language": "python",
   "name": "python3"
  },
  "language_info": {
   "codemirror_mode": {
    "name": "ipython",
    "version": 3
   },
   "file_extension": ".py",
   "mimetype": "text/x-python",
   "name": "python",
   "nbconvert_exporter": "python",
   "pygments_lexer": "ipython3",
   "version": "3.10.9"
  }
 },
 "nbformat": 4,
 "nbformat_minor": 5
}
