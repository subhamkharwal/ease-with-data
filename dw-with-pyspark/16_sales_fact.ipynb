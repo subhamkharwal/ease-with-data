{
 "cells": [
  {
   "cell_type": "code",
   "execution_count": 1,
   "id": "98bc8f3e-0ae6-49e4-b2a3-bcda1dd7945d",
   "metadata": {},
   "outputs": [],
   "source": [
    "# Script to Load Fact"
   ]
  },
  {
   "cell_type": "code",
   "execution_count": 2,
   "id": "c7185fc6-2075-4b93-ba36-d6a1ad646b87",
   "metadata": {},
   "outputs": [],
   "source": [
    "# Import required libraries\n",
    "import sys\n",
    "from lib.spark_session import get_spark_session\n",
    "from lib.utils import date_data, get_string_cols, get_rundate\n",
    "from lib.job_control import insert_log, get_max_timestamp\n",
    "from pyspark.sql import SparkSession, DataFrame\n",
    "from pyspark.sql.functions import current_timestamp, expr, to_date, date_format, udf, lit\n",
    "from pyspark.sql.types import StringType\n",
    "from datetime import datetime\n",
    "from delta import DeltaTable\n",
    "import uuid"
   ]
  },
  {
   "cell_type": "code",
   "execution_count": 3,
   "id": "252acce6-da40-4e7e-a63b-ebfa35bba4e3",
   "metadata": {},
   "outputs": [
    {
     "name": "stdout",
     "output_type": "stream",
     "text": [
      "SPARK_APP: JOB triggered for rundate - 20220101\n"
     ]
    }
   ],
   "source": [
    "# JOB Parameters\n",
    "rundate = get_rundate()\n",
    "schema_name = \"edw\"\n",
    "table_name = \"fact_sales\"\n",
    "table_full_name = f\"{schema_name}.{table_name}\"\n",
    "staging_table_full_name = \"edw_stg.fact_sales_stg\"\n",
    "print(\"SPARK_APP: JOB triggered for rundate - \" + rundate)"
   ]
  },
  {
   "cell_type": "code",
   "execution_count": 4,
   "id": "c1262a86-8478-4b74-8973-b7825eb26a29",
   "metadata": {},
   "outputs": [
    {
     "name": "stdout",
     "output_type": "stream",
     "text": [
      "SPARK_APP: Spark UI - http://46346aae9d54:4040\n"
     ]
    }
   ],
   "source": [
    "# Generate Spark Session\n",
    "spark: SparkSession = get_spark_session(f\"Fact load - {table_full_name}\")\n",
    "print(\"SPARK_APP: Spark UI - \" + spark.sparkContext.uiWebUrl)"
   ]
  },
  {
   "cell_type": "code",
   "execution_count": 6,
   "id": "605fde1b-96c0-4e58-a5a9-2448e6831416",
   "metadata": {},
   "outputs": [],
   "source": [
    "# Spark Configs\n",
    "spark.conf.set(\"spark.sql.shuffle.partitions\", 8)"
   ]
  },
  {
   "cell_type": "code",
   "execution_count": 7,
   "id": "39ed0752-cdfe-4b2e-8cda-485057f44761",
   "metadata": {},
   "outputs": [
    {
     "name": "stdout",
     "output_type": "stream",
     "text": [
      "SPARK_APP: Staging Data Count - 163\n",
      "SPARK_APP: Printing Staging Schema --\n",
      "root\n",
      " |-- cust_id: string (nullable = true)\n",
      " |-- store_id: string (nullable = true)\n",
      " |-- order_date: string (nullable = true)\n",
      " |-- qty: integer (nullable = true)\n",
      " |-- tax: double (nullable = true)\n",
      " |-- discount: double (nullable = true)\n",
      " |-- line_total: double (nullable = true)\n",
      " |-- order_id: string (nullable = true)\n",
      " |-- invoice_num: string (nullable = true)\n",
      " |-- prod_id: string (nullable = true)\n",
      " |-- product_wid: string (nullable = true)\n",
      " |-- integration_key: string (nullable = true)\n",
      " |-- rundate: string (nullable = true)\n",
      " |-- insert_dt: timestamp (nullable = true)\n",
      " |-- update_dt: timestamp (nullable = true)\n",
      "\n"
     ]
    }
   ],
   "source": [
    "# Read data from Staging\n",
    "df_stg = spark \\\n",
    "    .read \\\n",
    "    .table(staging_table_full_name)\n",
    "\n",
    "print(\"SPARK_APP: Staging Data Count - \" + str(df_stg.count()))\n",
    "print(\"SPARK_APP: Printing Staging Schema --\")\n",
    "df_stg.printSchema()"
   ]
  },
  {
   "cell_type": "code",
   "execution_count": 8,
   "id": "78b4df2a-1999-4f52-afe3-06c474b3cac8",
   "metadata": {},
   "outputs": [],
   "source": [
    "# Read dim tables to join to with Fact\n",
    "df_dim_store = spark.read.table(\"edw.dim_store\").selectExpr(\"store_id\", \"row_wid as store_wid\")\n",
    "# df_dim_date = spark.read.table(\"edw.dim_date\")\n",
    "df_dim_customer = spark.read.table(\"edw.dim_customer\").where(\"active_flg = 1\").selectExpr(\"customer_id\", \"row_wid as customer_wid\")"
   ]
  },
  {
   "cell_type": "code",
   "execution_count": 9,
   "id": "65954861-dfd5-414f-957f-b152bddf8253",
   "metadata": {},
   "outputs": [
    {
     "name": "stdout",
     "output_type": "stream",
     "text": [
      "SPARK_APP: Fact Data Count - 163\n",
      "SPARK_APP: Printing Fact Schema --\n",
      "root\n",
      " |-- date_wid: string (nullable = true)\n",
      " |-- product_wid: string (nullable = true)\n",
      " |-- store_wid: string (nullable = true)\n",
      " |-- customer_wid: string (nullable = true)\n",
      " |-- order_id: string (nullable = true)\n",
      " |-- invoice_num: string (nullable = true)\n",
      " |-- qty: integer (nullable = true)\n",
      " |-- tax: double (nullable = true)\n",
      " |-- discount: double (nullable = true)\n",
      " |-- line_total: double (nullable = true)\n",
      " |-- integration_key: string (nullable = true)\n",
      " |-- rundate: string (nullable = false)\n",
      " |-- insert_dt: timestamp (nullable = false)\n",
      " |-- update_dt: timestamp (nullable = false)\n",
      "\n"
     ]
    }
   ],
   "source": [
    "# Get SURROGATE KEYs from Dimensions and add to Fact table\n",
    "df_fact = df_stg \\\n",
    "    .join(df_dim_store, how=\"left_outer\", on=df_stg.store_id == df_dim_store.store_id) \\\n",
    "    .join(df_dim_customer, how=\"left_outer\", on=df_stg.cust_id == df_dim_customer.customer_id) \\\n",
    "    .withColumn(\"date_wid\", date_format(\"order_date\", \"yyyyMMdd\")) \\\n",
    "    .withColumn(\"rundate\", lit(rundate)) \\\n",
    "    .withColumn(\"insert_dt\", current_timestamp()) \\\n",
    "    .withColumn(\"update_dt\", current_timestamp()) \\\n",
    "    .select(\"date_wid\", \"product_wid\", \"store_wid\", \"customer_wid\", \"order_id\", \"invoice_num\", \n",
    "           \"qty\", \"tax\", \"discount\", \"line_total\", \"integration_key\", \"rundate\", \"insert_dt\", \"update_dt\")\n",
    "\n",
    "\n",
    "print(\"SPARK_APP: Fact Data Count - \" + str(df_fact.count()))\n",
    "print(\"SPARK_APP: Printing Fact Schema --\")\n",
    "df_fact.printSchema()"
   ]
  },
  {
   "cell_type": "code",
   "execution_count": 10,
   "id": "fd44b4ff-7e18-44f2-87ac-7159fc54a969",
   "metadata": {},
   "outputs": [
    {
     "name": "stdout",
     "output_type": "stream",
     "text": [
      "SPARK_APP: Fact data loaded\n"
     ]
    }
   ],
   "source": [
    "# Insert all records in Delta Table in APPEND mode\n",
    "df_fact.write \\\n",
    "    .format(\"delta\") \\\n",
    "    .mode(\"append\") \\\n",
    "    .saveAsTable(table_full_name)\n",
    "print(\"SPARK_APP: Fact data loaded\")"
   ]
  },
  {
   "cell_type": "code",
   "execution_count": 13,
   "id": "a1d2cc29-0b8b-47f7-aea2-dbae3114dffd",
   "metadata": {},
   "outputs": [
    {
     "name": "stdout",
     "output_type": "stream",
     "text": [
      "SPARK_APP: Update JOB Control Log\n"
     ]
    }
   ],
   "source": [
    "# Add job details in JOB CONTROL\n",
    "insert_log(spark, schema_name, table_name, datetime.now(), rundate)\n",
    "print(\"SPARK_APP: Update JOB Control Log\")"
   ]
  },
  {
   "cell_type": "code",
   "execution_count": 14,
   "id": "1f57934a-68df-4f96-bc6c-6e0d51a1a784",
   "metadata": {},
   "outputs": [
    {
     "name": "stdout",
     "output_type": "stream",
     "text": [
      "+-----------+----------+--------------------------+--------+--------------------------+\n",
      "|schema_name|table_name|max_timestamp             |rundate |insert_dt                 |\n",
      "+-----------+----------+--------------------------+--------+--------------------------+\n",
      "|edw        |fact_sales|2023-02-08 11:32:31.606757|20220101|2023-02-08 11:32:33.898547|\n",
      "+-----------+----------+--------------------------+--------+--------------------------+\n",
      "\n"
     ]
    }
   ],
   "source": [
    "spark.sql(f\"select * from edw.job_control where table_name = '{table_name}' order by insert_dt desc limit 1\").show(truncate=False)"
   ]
  },
  {
   "cell_type": "code",
   "execution_count": 15,
   "id": "e18c4b13-7a14-41c5-af42-e36057155cf2",
   "metadata": {},
   "outputs": [
    {
     "name": "stdout",
     "output_type": "stream",
     "text": [
      "SPARK_APP: Symlink Manifest file generated\n"
     ]
    }
   ],
   "source": [
    "# Generate Symlink manifest for Athena Access\n",
    "dt = DeltaTable.forName(spark, table_full_name)\n",
    "dt.generate(\"symlink_format_manifest\")\n",
    "print(\"SPARK_APP: Symlink Manifest file generated\")"
   ]
  },
  {
   "cell_type": "code",
   "execution_count": 19,
   "id": "2f40b7c4-9858-488f-b539-a27468db70a0",
   "metadata": {},
   "outputs": [],
   "source": [
    "spark.stop()"
   ]
  },
  {
   "cell_type": "code",
   "execution_count": null,
   "id": "fec2bc33-7b31-4df9-a6cd-6bae56bb9b67",
   "metadata": {},
   "outputs": [],
   "source": []
  }
 ],
 "metadata": {
  "kernelspec": {
   "display_name": "Python 3 (ipykernel)",
   "language": "python",
   "name": "python3"
  },
  "language_info": {
   "codemirror_mode": {
    "name": "ipython",
    "version": 3
   },
   "file_extension": ".py",
   "mimetype": "text/x-python",
   "name": "python",
   "nbconvert_exporter": "python",
   "pygments_lexer": "ipython3",
   "version": "3.10.9"
  }
 },
 "nbformat": 4,
 "nbformat_minor": 5
}
