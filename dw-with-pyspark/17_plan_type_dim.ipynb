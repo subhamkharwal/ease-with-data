{
 "cells": [
  {
   "cell_type": "code",
   "execution_count": 1,
   "id": "2bb98396-3381-4139-8522-c4cc27834539",
   "metadata": {
    "tags": []
   },
   "outputs": [],
   "source": [
    "# Script to load plan type"
   ]
  },
  {
   "cell_type": "code",
   "execution_count": 2,
   "id": "e289c90f-97d1-411b-a498-f7d91e1f8ba9",
   "metadata": {
    "tags": []
   },
   "outputs": [],
   "source": [
    "# Import required libraries\n",
    "import sys\n",
    "from lib.spark_session import get_spark_session\n",
    "from lib.utils import date_data, get_string_cols, get_rundate\n",
    "from lib.job_control import insert_log, get_max_timestamp\n",
    "from pyspark.sql import SparkSession, DataFrame\n",
    "from pyspark.sql.functions import current_timestamp, expr, to_date, date_format, udf, lit\n",
    "from pyspark.sql.types import StringType\n",
    "from datetime import datetime\n",
    "from delta import DeltaTable\n",
    "import uuid"
   ]
  },
  {
   "cell_type": "code",
   "execution_count": 3,
   "id": "257381b4-cd31-4d3e-96d1-a0ad8bd8359d",
   "metadata": {
    "tags": []
   },
   "outputs": [
    {
     "name": "stdout",
     "output_type": "stream",
     "text": [
      "SPARK_APP: JOB triggered for rundate - 20220101\n"
     ]
    }
   ],
   "source": [
    "# JOB Parameters\n",
    "rundate = get_rundate()\n",
    "schema_name = \"edw\"\n",
    "table_name = \"dim_plan_type\"\n",
    "table_full_name = f\"{schema_name}.{table_name}\"\n",
    "print(\"SPARK_APP: JOB triggered for rundate - \" + rundate)"
   ]
  },
  {
   "cell_type": "code",
   "execution_count": 4,
   "id": "3c38cc7f-79bd-4511-8d11-23b624948919",
   "metadata": {
    "tags": []
   },
   "outputs": [
    {
     "name": "stdout",
     "output_type": "stream",
     "text": [
      "SPARK_APP: Spark UI - http://b47c9213eb15:4040\n"
     ]
    }
   ],
   "source": [
    "# Generate Spark Session\n",
    "spark: SparkSession = get_spark_session(f\"Dim load - {table_full_name}\")\n",
    "print(\"SPARK_APP: Spark UI - \" + spark.sparkContext.uiWebUrl)"
   ]
  },
  {
   "cell_type": "code",
   "execution_count": 6,
   "id": "67082878-fc4e-49f1-9711-b413ffc56107",
   "metadata": {
    "tags": []
   },
   "outputs": [],
   "source": [
    "# Create Plan Type Dimension data and Schema\n",
    "\n",
    "_schema = [\"plan_type_code\", \"plan_name\"]\n",
    "_data = [\n",
    "    [\"G\", \"GOLD\"],\n",
    "    [\"P\", \"PLATINUM\"],\n",
    "    [\"D\", \"DIAMOND\"],\n",
    "    [\"S\", \"SILVER\"],\n",
    "    [\"NA\", \"NOT APPLICABLE\"]\n",
    "]\n",
    "\n",
    "# Create dataframe\n",
    "df = spark.createDataFrame(data=_data, schema=_schema)"
   ]
  },
  {
   "cell_type": "code",
   "execution_count": 8,
   "id": "49bc3fc3-c39b-44fd-9eee-1c4373c5dd08",
   "metadata": {
    "tags": []
   },
   "outputs": [
    {
     "name": "stdout",
     "output_type": "stream",
     "text": [
      "+--------------+--------------+--------+--------------------+--------------------+\n",
      "|plan_type_code|     plan_name| rundate|           insert_dt|           update_dt|\n",
      "+--------------+--------------+--------+--------------------+--------------------+\n",
      "|             G|          GOLD|20220101|2023-03-19 07:01:...|2023-03-19 07:01:...|\n",
      "|             P|      PLATINUM|20220101|2023-03-19 07:01:...|2023-03-19 07:01:...|\n",
      "|             D|       DIAMOND|20220101|2023-03-19 07:01:...|2023-03-19 07:01:...|\n",
      "|             S|        SILVER|20220101|2023-03-19 07:01:...|2023-03-19 07:01:...|\n",
      "|            NA|NOT APPLICABLE|20220101|2023-03-19 07:01:...|2023-03-19 07:01:...|\n",
      "+--------------+--------------+--------+--------------------+--------------------+\n",
      "\n"
     ]
    }
   ],
   "source": [
    "# Add required audit columns\n",
    "df_dim = df.withColumn(\"rundate\", lit(rundate)) \\\n",
    "    .withColumn(\"insert_dt\", current_timestamp()) \\\n",
    "    .withColumn(\"update_dt\", current_timestamp())\n",
    "\n",
    "df_dim.show()"
   ]
  },
  {
   "cell_type": "code",
   "execution_count": 9,
   "id": "3377d4dc-a67b-4f46-bde9-f45c4d5cf2ed",
   "metadata": {
    "tags": []
   },
   "outputs": [
    {
     "name": "stdout",
     "output_type": "stream",
     "text": [
      "SPARK_APP: Dim data loaded\n"
     ]
    }
   ],
   "source": [
    "# Insert all records in Delta Table in OVERWRITE mode\n",
    "df_dim.write \\\n",
    "    .format(\"delta\") \\\n",
    "    .mode(\"overwrite\") \\\n",
    "    .saveAsTable(table_full_name)\n",
    "print(\"SPARK_APP: Dim data loaded\")"
   ]
  },
  {
   "cell_type": "code",
   "execution_count": 10,
   "id": "5e7738b1-7624-4c69-b7c2-615aa4b4eed3",
   "metadata": {
    "tags": []
   },
   "outputs": [
    {
     "name": "stdout",
     "output_type": "stream",
     "text": [
      "SPARK_APP: Update JOB Control Log\n"
     ]
    }
   ],
   "source": [
    "# Add job details in JOB CONTROL\n",
    "insert_log(spark, schema_name, table_name, datetime.now(), rundate)\n",
    "print(\"SPARK_APP: Update JOB Control Log\")"
   ]
  },
  {
   "cell_type": "code",
   "execution_count": 11,
   "id": "e61866c6-1ada-485c-8253-d43e07618704",
   "metadata": {
    "tags": []
   },
   "outputs": [
    {
     "name": "stdout",
     "output_type": "stream",
     "text": [
      "+-----------+-------------+--------------------------+--------+--------------------------+\n",
      "|schema_name|table_name   |max_timestamp             |rundate |insert_dt                 |\n",
      "+-----------+-------------+--------------------------+--------+--------------------------+\n",
      "|edw        |dim_plan_type|2023-03-19 07:03:41.954863|20220101|2023-03-19 07:03:45.094971|\n",
      "+-----------+-------------+--------------------------+--------+--------------------------+\n",
      "\n"
     ]
    }
   ],
   "source": [
    "spark.sql(f\"select * from edw.job_control where table_name = '{table_name}' order by insert_dt desc limit 1\").show(truncate=False)"
   ]
  },
  {
   "cell_type": "code",
   "execution_count": 12,
   "id": "ff4fb3c6-2ea2-4a33-9cc5-a595f8998128",
   "metadata": {
    "tags": []
   },
   "outputs": [
    {
     "name": "stdout",
     "output_type": "stream",
     "text": [
      "SPARK_APP: Symlink Manifest file generated\n"
     ]
    }
   ],
   "source": [
    "# Generate Symlink manifest for Athena Access\n",
    "dt = DeltaTable.forName(spark, table_full_name)\n",
    "dt.generate(\"symlink_format_manifest\")\n",
    "print(\"SPARK_APP: Symlink Manifest file generated\")"
   ]
  },
  {
   "cell_type": "code",
   "execution_count": 13,
   "id": "d844f322-2601-4135-b87e-0fd842f64276",
   "metadata": {
    "tags": []
   },
   "outputs": [
    {
     "name": "stdout",
     "output_type": "stream",
     "text": [
      "+--------------+--------------+--------+--------------------+--------------------+\n",
      "|plan_type_code|     plan_name| rundate|           insert_dt|           update_dt|\n",
      "+--------------+--------------+--------+--------------------+--------------------+\n",
      "|            NA|NOT APPLICABLE|20220101|2023-03-19 07:03:...|2023-03-19 07:03:...|\n",
      "|             P|      PLATINUM|20220101|2023-03-19 07:03:...|2023-03-19 07:03:...|\n",
      "|             D|       DIAMOND|20220101|2023-03-19 07:03:...|2023-03-19 07:03:...|\n",
      "|             S|        SILVER|20220101|2023-03-19 07:03:...|2023-03-19 07:03:...|\n",
      "|             G|          GOLD|20220101|2023-03-19 07:03:...|2023-03-19 07:03:...|\n",
      "+--------------+--------------+--------+--------------------+--------------------+\n",
      "\n"
     ]
    }
   ],
   "source": [
    "spark.sql(\"select * from edw.dim_plan_type\").show()"
   ]
  },
  {
   "cell_type": "code",
   "execution_count": 14,
   "id": "ba626a38-9ad5-4ea7-bf43-5c76366228ad",
   "metadata": {
    "tags": []
   },
   "outputs": [],
   "source": [
    "spark.stop()"
   ]
  },
  {
   "cell_type": "code",
   "execution_count": null,
   "id": "344a1aaa-2ba0-4453-abee-9a7b0e4adf5b",
   "metadata": {},
   "outputs": [],
   "source": []
  }
 ],
 "metadata": {
  "kernelspec": {
   "display_name": "Python 3 (ipykernel)",
   "language": "python",
   "name": "python3"
  },
  "language_info": {
   "codemirror_mode": {
    "name": "ipython",
    "version": 3
   },
   "file_extension": ".py",
   "mimetype": "text/x-python",
   "name": "python",
   "nbconvert_exporter": "python",
   "pygments_lexer": "ipython3",
   "version": "3.10.9"
  }
 },
 "nbformat": 4,
 "nbformat_minor": 5
}
