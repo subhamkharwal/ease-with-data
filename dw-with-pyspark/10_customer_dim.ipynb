{
 "cells": [
  {
   "cell_type": "code",
   "execution_count": 1,
   "id": "98bc8f3e-0ae6-49e4-b2a3-bcda1dd7945d",
   "metadata": {},
   "outputs": [],
   "source": [
    "# Script to Load Dimesion"
   ]
  },
  {
   "cell_type": "code",
   "execution_count": 17,
   "id": "c7185fc6-2075-4b93-ba36-d6a1ad646b87",
   "metadata": {},
   "outputs": [],
   "source": [
    "# Import required libraries\n",
    "import sys\n",
    "from lib.spark_session import get_spark_session\n",
    "from lib.utils import date_data, get_string_cols, get_rundate\n",
    "from lib.job_control import insert_log, get_max_timestamp\n",
    "from pyspark.sql import SparkSession, DataFrame\n",
    "from pyspark.sql.functions import current_timestamp, expr, to_date, date_format, udf, lit\n",
    "from pyspark.sql.types import StringType\n",
    "from datetime import datetime\n",
    "from delta import DeltaTable\n",
    "import uuid"
   ]
  },
  {
   "cell_type": "code",
   "execution_count": 3,
   "id": "252acce6-da40-4e7e-a63b-ebfa35bba4e3",
   "metadata": {},
   "outputs": [],
   "source": [
    "# JOB Parameters\n",
    "rundate = get_rundate()\n",
    "schema_name = \"edw\"\n",
    "table_name = \"dim_customer\"\n",
    "table_full_name = f\"{schema_name}.{table_name}\"\n",
    "staging_table_full_name = \"edw_stg.dim_customer_stg\"\n",
    "print(\"SPARK_APP: JOB triggered for rundate - \" + rundate)"
   ]
  },
  {
   "cell_type": "code",
   "execution_count": 4,
   "id": "c1262a86-8478-4b74-8973-b7825eb26a29",
   "metadata": {},
   "outputs": [
    {
     "name": "stdout",
     "output_type": "stream",
     "text": [
      "SPARK_APP: Spark UI - http://46346aae9d54:4040\n"
     ]
    }
   ],
   "source": [
    "# Generate Spark Session\n",
    "spark: SparkSession = get_spark_session(f\"Dimension load - {table_full_name}\")\n",
    "print(\"SPARK_APP: Spark UI - \" + spark.sparkContext.uiWebUrl)"
   ]
  },
  {
   "cell_type": "code",
   "execution_count": 5,
   "id": "605fde1b-96c0-4e58-a5a9-2448e6831416",
   "metadata": {},
   "outputs": [],
   "source": [
    "# Spark Configs\n",
    "spark.conf.set(\"spark.sql.shuffle.partitions\", 8)"
   ]
  },
  {
   "cell_type": "code",
   "execution_count": 6,
   "id": "39ed0752-cdfe-4b2e-8cda-485057f44761",
   "metadata": {},
   "outputs": [
    {
     "name": "stdout",
     "output_type": "stream",
     "text": [
      "SPARK_APP: Staging Data Count - 19\n",
      "SPARK_APP: Printing Staging Schema --\n",
      "root\n",
      " |-- customer_id: string (nullable = true)\n",
      " |-- name: string (nullable = true)\n",
      " |-- address: string (nullable = true)\n",
      " |-- city: string (nullable = true)\n",
      " |-- state: string (nullable = true)\n",
      " |-- zip_code: string (nullable = true)\n",
      " |-- phone_number: string (nullable = true)\n",
      " |-- email: string (nullable = true)\n",
      " |-- date_of_birth: date (nullable = true)\n",
      " |-- plan_type: string (nullable = true)\n",
      " |-- insert_dt: timestamp (nullable = true)\n",
      " |-- rundate: string (nullable = true)\n",
      " |-- first_name: string (nullable = true)\n",
      " |-- last_name: string (nullable = true)\n",
      " |-- effective_start_dt: timestamp (nullable = true)\n",
      " |-- effective_end_dt: timestamp (nullable = true)\n",
      " |-- active_flg: integer (nullable = true)\n",
      " |-- update_dt: timestamp (nullable = true)\n",
      "\n"
     ]
    }
   ],
   "source": [
    "# Read data from Staging\n",
    "df_stg = spark \\\n",
    "    .read \\\n",
    "    .table(staging_table_full_name)\n",
    "\n",
    "print(\"SPARK_APP: Staging Data Count - \" + str(df_stg.count()))\n",
    "print(\"SPARK_APP: Printing Staging Schema --\")\n",
    "df_stg.printSchema()"
   ]
  },
  {
   "cell_type": "code",
   "execution_count": 7,
   "id": "861d50da-f6bc-4aa2-974b-8ff577b283b5",
   "metadata": {},
   "outputs": [],
   "source": [
    "# Generated uuid UDF for Surrogate Key\n",
    "uuidUDF = udf(lambda : str(uuid.uuid4()),StringType())"
   ]
  },
  {
   "cell_type": "code",
   "execution_count": 20,
   "id": "65954861-dfd5-414f-957f-b152bddf8253",
   "metadata": {},
   "outputs": [
    {
     "name": "stdout",
     "output_type": "stream",
     "text": [
      "SPARK_APP: Dim Temp Data Count - 19\n",
      "SPARK_APP: Printing Dim Temp Schema --\n",
      "root\n",
      " |-- customer_id: string (nullable = true)\n",
      " |-- name: string (nullable = true)\n",
      " |-- address: string (nullable = true)\n",
      " |-- city: string (nullable = true)\n",
      " |-- state: string (nullable = true)\n",
      " |-- zip_code: string (nullable = true)\n",
      " |-- phone_number: string (nullable = true)\n",
      " |-- email: string (nullable = true)\n",
      " |-- date_of_birth: date (nullable = true)\n",
      " |-- plan_type: string (nullable = true)\n",
      " |-- insert_dt: timestamp (nullable = true)\n",
      " |-- rundate: string (nullable = true)\n",
      " |-- first_name: string (nullable = true)\n",
      " |-- last_name: string (nullable = true)\n",
      " |-- effective_start_dt: timestamp (nullable = true)\n",
      " |-- effective_end_dt: timestamp (nullable = true)\n",
      " |-- active_flg: integer (nullable = true)\n",
      " |-- update_dt: timestamp (nullable = true)\n",
      " |-- row_wid: string (nullable = true)\n",
      " |-- hist_record_end_timestamp: timestamp (nullable = true)\n",
      " |-- hist_record_active_flg: integer (nullable = false)\n",
      " |-- hist_record_update_dt: timestamp (nullable = false)\n",
      "\n"
     ]
    }
   ],
   "source": [
    "# Generate SURROGATE KEYs\n",
    "df_dim_temp = df_stg \\\n",
    "    .withColumn(\"row_wid\", uuidUDF()) \\\n",
    "    .withColumn(\"hist_record_end_timestamp\", expr(\"cast(effective_start_dt as TIMESTAMP) - INTERVAL 1 seconds\")) \\\n",
    "    .withColumn(\"hist_record_active_flg\", lit(0)) \\\n",
    "    .withColumn(\"hist_record_update_dt\", current_timestamp()) \n",
    "\n",
    "print(\"SPARK_APP: Dim Temp Data Count - \" + str(df_dim_temp.count()))\n",
    "print(\"SPARK_APP: Printing Dim Temp Schema --\")\n",
    "df_dim_temp.printSchema()"
   ]
  },
  {
   "cell_type": "code",
   "execution_count": 21,
   "id": "49476cac-e0d1-4815-bee8-b1749248fe53",
   "metadata": {},
   "outputs": [
    {
     "name": "stdout",
     "output_type": "stream",
     "text": [
      "SPARK_APP: Updated History Records\n"
     ]
    }
   ],
   "source": [
    "# Get the delta table for Upserts (SCD2)\n",
    "dt_dim = DeltaTable.forName(spark, table_full_name)\n",
    "\n",
    "# Validate if the load is full load\n",
    "if get_max_timestamp(spark, schema_name, table_name) == \"1900-01-01 00:00:00.000000\":\n",
    "    print(\"SPARK_APP: Table is set for full load\") \n",
    "    # Truncate the Dimension table\n",
    "    dt_dim.delete(f\"1=1\")\n",
    "    # Vaccumm the table to remove all older snapshots\n",
    "    spark.conf.set(\"spark.databricks.delta.retentionDurationCheck.enabled\", False)\n",
    "    dt.vacuum(0)\n",
    "\n",
    "# Create the UPSERT logic\n",
    "dt_dim.alias(\"dim_customer\") \\\n",
    "    .merge(df_dim_temp.alias(\"dim_temp\"), \"dim_customer.customer_id = dim_temp.customer_id and dim_customer.active_flg = 1\") \\\n",
    "    .whenMatchedUpdate(set =\n",
    "        {\n",
    "           \"effective_end_dt\" : \"dim_temp.hist_record_end_timestamp\",\n",
    "            \"active_flg\" : \"dim_temp.hist_record_active_flg\",\n",
    "            \"update_dt\" : \"dim_temp.hist_record_update_dt\"\n",
    "        }  \n",
    "    ) \\\n",
    "    .execute()\n",
    "print(\"SPARK_APP: Updated History Records\")"
   ]
  },
  {
   "cell_type": "code",
   "execution_count": 22,
   "id": "69fc4fff-cc19-44f6-ab49-7730e0d32a32",
   "metadata": {},
   "outputs": [
    {
     "name": "stdout",
     "output_type": "stream",
     "text": [
      "+-------+---------------+---------------------+--------------------+-------------+\n",
      "|version|executionTimeMs|numTargetRowsInserted|numTargetRowsUpdated|numOutputRows|\n",
      "+-------+---------------+---------------------+--------------------+-------------+\n",
      "|1      |4335           |0                    |0                   |0            |\n",
      "+-------+---------------+---------------------+--------------------+-------------+\n",
      "\n"
     ]
    }
   ],
   "source": [
    "# Get the logs from delta table version\n",
    "dt_dim.history().limit(1).select(\"version\",\"operationMetrics.executionTimeMs\", \n",
    "                                 \"operationMetrics.numTargetRowsInserted\",\n",
    "                                \"operationMetrics.numTargetRowsUpdated\",\n",
    "                                \"operationMetrics.numOutputRows\").show(1, False)"
   ]
  },
  {
   "cell_type": "code",
   "execution_count": 26,
   "id": "fd44b4ff-7e18-44f2-87ac-7159fc54a969",
   "metadata": {},
   "outputs": [
    {
     "name": "stdout",
     "output_type": "stream",
     "text": [
      "SPARK_APP: Active Records inserted into Dimesion Table\n"
     ]
    }
   ],
   "source": [
    "# Insert all records in Delta Table in APPEND mode\n",
    "df_dim_temp.drop(\"hist_record_end_timestamp\", \"hist_record_active_flg\", \"hist_record_update_dt\", \"name\") \\\n",
    "    .write \\\n",
    "    .format(\"delta\") \\\n",
    "    .mode(\"append\") \\\n",
    "    .saveAsTable(table_full_name)\n",
    "print(\"SPARK_APP: Active Records inserted into Dimesion Table\")"
   ]
  },
  {
   "cell_type": "code",
   "execution_count": 27,
   "id": "80d17ed2-1c4c-4664-8d1a-bdfd8b385e99",
   "metadata": {},
   "outputs": [
    {
     "name": "stdout",
     "output_type": "stream",
     "text": [
      "+-------+---------------+---------------------+--------------------+-------------+\n",
      "|version|executionTimeMs|numTargetRowsInserted|numTargetRowsUpdated|numOutputRows|\n",
      "+-------+---------------+---------------------+--------------------+-------------+\n",
      "|1      |null           |null                 |null                |19           |\n",
      "+-------+---------------+---------------------+--------------------+-------------+\n",
      "\n"
     ]
    }
   ],
   "source": [
    "# Get the logs from delta table version\n",
    "dt_dim.history().limit(1).select(\"version\",\"operationMetrics.executionTimeMs\", \n",
    "                                 \"operationMetrics.numTargetRowsInserted\",\n",
    "                                \"operationMetrics.numTargetRowsUpdated\",\n",
    "                                \"operationMetrics.numOutputRows\").show(1, False)"
   ]
  },
  {
   "cell_type": "code",
   "execution_count": 28,
   "id": "a1d2cc29-0b8b-47f7-aea2-dbae3114dffd",
   "metadata": {},
   "outputs": [
    {
     "name": "stdout",
     "output_type": "stream",
     "text": [
      "SPARK_APP: Update JOB Control Log\n"
     ]
    }
   ],
   "source": [
    "# Add job details in JOB CONTROL\n",
    "insert_log(spark, schema_name, table_name, datetime.now(), rundate)\n",
    "print(\"SPARK_APP: Update JOB Control Log\")"
   ]
  },
  {
   "cell_type": "code",
   "execution_count": 29,
   "id": "1f57934a-68df-4f96-bc6c-6e0d51a1a784",
   "metadata": {},
   "outputs": [
    {
     "name": "stdout",
     "output_type": "stream",
     "text": [
      "+-----------+------------+--------------------------+--------+--------------------------+\n",
      "|schema_name|table_name  |max_timestamp             |rundate |insert_dt                 |\n",
      "+-----------+------------+--------------------------+--------+--------------------------+\n",
      "|edw        |dim_customer|2023-02-06 11:51:40.262862|20220101|2023-02-06 11:51:42.052823|\n",
      "+-----------+------------+--------------------------+--------+--------------------------+\n",
      "\n"
     ]
    }
   ],
   "source": [
    "spark.sql(f\"select * from edw.job_control where table_name = '{table_name}' order by insert_dt desc limit 1\").show(truncate=False)"
   ]
  },
  {
   "cell_type": "code",
   "execution_count": 30,
   "id": "e18c4b13-7a14-41c5-af42-e36057155cf2",
   "metadata": {},
   "outputs": [
    {
     "name": "stdout",
     "output_type": "stream",
     "text": [
      "SPARK_APP: Symlink Manifest file generated\n"
     ]
    }
   ],
   "source": [
    "# Generate Symlink manifest for Athena Access\n",
    "dt = DeltaTable.forName(spark, table_full_name)\n",
    "dt.generate(\"symlink_format_manifest\")\n",
    "print(\"SPARK_APP: Symlink Manifest file generated\")"
   ]
  },
  {
   "cell_type": "code",
   "execution_count": 31,
   "id": "2f40b7c4-9858-488f-b539-a27468db70a0",
   "metadata": {},
   "outputs": [],
   "source": [
    "spark.stop()"
   ]
  },
  {
   "cell_type": "code",
   "execution_count": null,
   "id": "4fffb3d9-02db-4c5a-8ac3-db9ddd0ae37d",
   "metadata": {},
   "outputs": [],
   "source": []
  }
 ],
 "metadata": {
  "kernelspec": {
   "display_name": "Python 3 (ipykernel)",
   "language": "python",
   "name": "python3"
  },
  "language_info": {
   "codemirror_mode": {
    "name": "ipython",
    "version": 3
   },
   "file_extension": ".py",
   "mimetype": "text/x-python",
   "name": "python",
   "nbconvert_exporter": "python",
   "pygments_lexer": "ipython3",
   "version": "3.10.9"
  }
 },
 "nbformat": 4,
 "nbformat_minor": 5
}
