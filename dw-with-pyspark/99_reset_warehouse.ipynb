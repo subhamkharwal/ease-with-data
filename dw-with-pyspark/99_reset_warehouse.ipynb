{
 "cells": [
  {
   "cell_type": "code",
   "execution_count": 1,
   "id": "7074d5b2-789a-450c-8db2-bfa72c66c902",
   "metadata": {},
   "outputs": [],
   "source": [
    "# Remove and Reset warehouse"
   ]
  },
  {
   "cell_type": "code",
   "execution_count": 2,
   "id": "77b8fa88-a559-4ac8-9f16-f1429f05ebcc",
   "metadata": {},
   "outputs": [
    {
     "name": "stdout",
     "output_type": "stream",
     "text": [
      "SPARK_APP: Spark Session UI - http://46346aae9d54:4040\n"
     ]
    }
   ],
   "source": [
    "# Generate the SparkSession\n",
    "from lib.spark_session import get_spark_session\n",
    "\n",
    "spark = get_spark_session(\"Drop Databases\")\n",
    "print(\"SPARK_APP: Spark Session UI - \"+ spark.sparkContext.uiWebUrl)"
   ]
  },
  {
   "cell_type": "code",
   "execution_count": 3,
   "id": "3c8c916b-a093-4a99-87b5-0a23aa80d469",
   "metadata": {},
   "outputs": [
    {
     "name": "stdout",
     "output_type": "stream",
     "text": [
      "SPARK_APP: Executing - drop table edw_ld.dim_date_ld\n",
      "SPARK_APP: All tables dropped\n",
      "+---------+---------+-----------+\n",
      "|namespace|tableName|isTemporary|\n",
      "+---------+---------+-----------+\n",
      "+---------+---------+-----------+\n",
      "\n",
      "SPARK_APP: Dropping Schema edw_ld\n",
      "+---------+\n",
      "|namespace|\n",
      "+---------+\n",
      "|  default|\n",
      "|      edw|\n",
      "|  edw_stg|\n",
      "|  edw_tmp|\n",
      "+---------+\n",
      "\n"
     ]
    }
   ],
   "source": [
    "# Reset Landing Layer\n",
    "schema_name = \"edw_ld\"\n",
    "df_table_names = spark.sql(f\"show tables in {schema_name}\")\n",
    "for table in df_table_names.collect():\n",
    "    drop_table_stmt = f\"drop table {schema_name}.{table['tableName']}\"\n",
    "    print(\"SPARK_APP: Executing - \" + drop_table_stmt)\n",
    "    spark.sql(drop_table_stmt)\n",
    "\n",
    "print(\"SPARK_APP: All tables dropped\")\n",
    "spark.sql(f\"show tables in {schema_name}\").show()\n",
    "print(\"SPARK_APP: Dropping Schema \" + schema_name)\n",
    "spark.sql(f\"DROP DATABASE {schema_name}\")\n",
    "spark.sql(f\"show databases\").show()"
   ]
  },
  {
   "cell_type": "code",
   "execution_count": 4,
   "id": "dda84daa-9885-41ef-b15f-fc646473c4eb",
   "metadata": {},
   "outputs": [
    {
     "name": "stdout",
     "output_type": "stream",
     "text": [
      "SPARK_APP: Executing - drop table edw_stg.dim_date_stg\n",
      "SPARK_APP: All tables dropped\n",
      "+---------+---------+-----------+\n",
      "|namespace|tableName|isTemporary|\n",
      "+---------+---------+-----------+\n",
      "+---------+---------+-----------+\n",
      "\n",
      "SPARK_APP: Dropping Schema edw_stg\n",
      "+---------+\n",
      "|namespace|\n",
      "+---------+\n",
      "|  default|\n",
      "|      edw|\n",
      "|  edw_tmp|\n",
      "+---------+\n",
      "\n"
     ]
    }
   ],
   "source": [
    "# Reset Staging Layer\n",
    "schema_name = \"edw_stg\"\n",
    "df_table_names = spark.sql(f\"show tables in {schema_name}\")\n",
    "for table in df_table_names.collect():\n",
    "    drop_table_stmt = f\"drop table {schema_name}.{table['tableName']}\"\n",
    "    print(\"SPARK_APP: Executing - \" + drop_table_stmt)\n",
    "    spark.sql(drop_table_stmt)\n",
    "\n",
    "print(\"SPARK_APP: All tables dropped\")\n",
    "spark.sql(f\"show tables in {schema_name}\").show()\n",
    "print(\"SPARK_APP: Dropping Schema \" + schema_name)\n",
    "spark.sql(f\"DROP DATABASE {schema_name}\")\n",
    "spark.sql(f\"show databases\").show()"
   ]
  },
  {
   "cell_type": "code",
   "execution_count": 5,
   "id": "21434b67-931e-4b09-891a-ac92a410aa0b",
   "metadata": {},
   "outputs": [
    {
     "name": "stdout",
     "output_type": "stream",
     "text": [
      "SPARK_APP: Executing - drop table edw.dim_customer\n",
      "SPARK_APP: Executing - drop table edw.dim_date\n",
      "SPARK_APP: Executing - drop table edw.dim_plan_type\n",
      "SPARK_APP: Executing - drop table edw.dim_product\n",
      "SPARK_APP: Executing - drop table edw.dim_store\n",
      "SPARK_APP: Executing - drop table edw.fact_sales\n",
      "SPARK_APP: Executing - drop table edw.job_control\n",
      "SPARK_APP: All tables dropped\n",
      "+---------+---------+-----------+\n",
      "|namespace|tableName|isTemporary|\n",
      "+---------+---------+-----------+\n",
      "+---------+---------+-----------+\n",
      "\n",
      "SPARK_APP: Dropping Schema edw\n",
      "+---------+\n",
      "|namespace|\n",
      "+---------+\n",
      "|  default|\n",
      "|  edw_tmp|\n",
      "+---------+\n",
      "\n"
     ]
    }
   ],
   "source": [
    "# Reset Warehouse\n",
    "schema_name = \"edw\"\n",
    "df_table_names = spark.sql(f\"show tables in {schema_name}\")\n",
    "for table in df_table_names.collect():\n",
    "    drop_table_stmt = f\"drop table {schema_name}.{table['tableName']}\"\n",
    "    print(\"SPARK_APP: Executing - \" + drop_table_stmt)\n",
    "    spark.sql(drop_table_stmt)\n",
    "\n",
    "print(\"SPARK_APP: All tables dropped\")\n",
    "spark.sql(f\"show tables in {schema_name}\").show()\n",
    "print(\"SPARK_APP: Dropping Schema \" + schema_name)\n",
    "spark.sql(f\"DROP DATABASE {schema_name}\")\n",
    "spark.sql(f\"show databases\").show()"
   ]
  }
 ],
 "metadata": {
  "kernelspec": {
   "display_name": "Python 3 (ipykernel)",
   "language": "python",
   "name": "python3"
  },
  "language_info": {
   "codemirror_mode": {
    "name": "ipython",
    "version": 3
   },
   "file_extension": ".py",
   "mimetype": "text/x-python",
   "name": "python",
   "nbconvert_exporter": "python",
   "pygments_lexer": "ipython3",
   "version": "3.10.9"
  }
 },
 "nbformat": 4,
 "nbformat_minor": 5
}
