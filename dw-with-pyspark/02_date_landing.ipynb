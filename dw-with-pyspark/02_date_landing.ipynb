{
 "cells": [
  {
   "cell_type": "code",
   "execution_count": null,
   "id": "54663222-aed8-463d-9bb6-7d3b23c32f5f",
   "metadata": {},
   "outputs": [],
   "source": [
    "# Script to create date for Date Dimesion Landing"
   ]
  },
  {
   "cell_type": "code",
   "execution_count": null,
   "id": "8d350312-8586-4023-ac2d-7f9f5bce2118",
   "metadata": {},
   "outputs": [],
   "source": [
    "# Import required libraries\n",
    "import sys\n",
    "from lib.spark_session import get_spark_session\n",
    "from lib.utils import date_data, get_string_cols\n",
    "from lib.job_control import insert_log, get_max_timestamp\n",
    "from pyspark.sql import SparkSession, DataFrame\n",
    "from pyspark.sql.functions import current_timestamp\n",
    "from datetime import datetime\n",
    "from delta import DeltaTable"
   ]
  },
  {
   "cell_type": "code",
   "execution_count": null,
   "id": "913278e2-a381-479e-ad07-4558537fde1a",
   "metadata": {},
   "outputs": [],
   "source": [
    "# JOB Parameters\n",
    "rundate = \"20220101\"\n",
    "schema_name = \"edw_ld\"\n",
    "table_name = \"dim_date_ld\"\n",
    "table_full_name = f\"{schema_name}.{table_name}\" "
   ]
  },
  {
   "cell_type": "code",
   "execution_count": null,
   "id": "195b0899-ba24-45f4-b371-7258ba0c6aad",
   "metadata": {},
   "outputs": [],
   "source": [
    "# Generate Spark Session\n",
    "spark: SparkSession = get_spark_session(f\"Landing load - {table_full_name}\")\n",
    "print(\"SPARK_APP: Spark UI - \" + spark.sparkContext.uiWebUrl)"
   ]
  },
  {
   "cell_type": "code",
   "execution_count": null,
   "id": "78940e8a-9440-45bb-906a-25e60c12c3c2",
   "metadata": {},
   "outputs": [],
   "source": [
    "# Spark Configs\n",
    "spark.conf.set(\"spark.sql.shuffle.partitions\", 8)"
   ]
  },
  {
   "cell_type": "code",
   "execution_count": null,
   "id": "1038ff74-23b7-4b73-af06-1de3ab1d2d6f",
   "metadata": {},
   "outputs": [],
   "source": [
    "# Define cols for date landing\n",
    "_cols = [\"date\", \"day\", \"month\", \"year\", \"day_of_month\"]\n",
    "_data = date_data(rundate, 2)"
   ]
  },
  {
   "cell_type": "code",
   "execution_count": null,
   "id": "69409340-2f96-4fae-aeea-d49c460ee452",
   "metadata": {},
   "outputs": [],
   "source": [
    "# Create Raw dataframe and get col info\n",
    "df_raw = spark.createDataFrame(data=_data, schema=_cols)\n",
    "print(\"SPARK_APP: Printing Raw Schema --\")\n",
    "df_raw.printSchema()\n",
    "\n",
    "# Get Landing count\n",
    "print(\"SPARK_APP: Landing data count - \" + str(df_raw.count()))"
   ]
  },
  {
   "cell_type": "code",
   "execution_count": null,
   "id": "2b9db313-b481-4787-9532-1ae40730b658",
   "metadata": {},
   "outputs": [],
   "source": [
    "# Cast all columns to String\n",
    "df_casted = df_raw.selectExpr(get_string_cols(spark, df_raw))\n",
    "print(\"SPARK_APP: Casted all columns to String\")\n",
    "\n",
    "# Add audit columns\n",
    "df_ld = df_casted.withColumn(\"insert_dt\", current_timestamp())\n",
    "print(\"SPARK_APP: Added AUDIT column\")\n",
    "\n",
    "# Get Final Layer count\n",
    "print(\"SPARK_APP: Final layer data count - \" + str(df_ld.count()))\n",
    "print(\"SPARK_APP: Printing Landing Schema --\")\n",
    "df_ld.printSchema()"
   ]
  },
  {
   "cell_type": "code",
   "execution_count": null,
   "id": "476d3209-e5bf-47ce-b796-3f41fa10c15b",
   "metadata": {},
   "outputs": [],
   "source": [
    "# Write the data to landing layer checking if table exists\n",
    "if get_max_timestamp(spark, schema_name, table_name) != \"1900-01-01 00:00:00.000000\":\n",
    "    df_ld.write \\\n",
    "        .format(\"delta\") \\\n",
    "        .mode(\"append\") \\\n",
    "        .saveAsTable(table_full_name)\n",
    "else:\n",
    "    df_ld.write \\\n",
    "        .format(\"delta\") \\\n",
    "        .saveAsTable(table_full_name)\n",
    "\n",
    "print(\"SPARK_APP: Data written to landing layer\")"
   ]
  },
  {
   "cell_type": "code",
   "execution_count": null,
   "id": "bc0efc9c-9393-427b-b375-022385a7f853",
   "metadata": {},
   "outputs": [],
   "source": [
    "# Add job details in JOB CONTROL\n",
    "insert_log(spark, schema_name, table_name, datetime.now())\n",
    "print(\"SPARK_APP: Update JOB Control Log\")"
   ]
  },
  {
   "cell_type": "code",
   "execution_count": null,
   "id": "a2d5dde7-755f-4531-bbab-4cf8ae131cd7",
   "metadata": {},
   "outputs": [],
   "source": [
    "spark.sql(f\"select * from edw.job_control where table_name = '{table_name}' order by insert_dt desc limit 1\").show(truncate=False)"
   ]
  },
  {
   "cell_type": "code",
   "execution_count": null,
   "id": "a489c010-ba5d-4bd6-97c8-f8969726d3e3",
   "metadata": {},
   "outputs": [],
   "source": [
    "# Generate Symlink manifest for Athena Access\n",
    "dt = DeltaTable.forName(spark, table_full_name)\n",
    "dt.generate(\"symlink_format_manifest\")\n",
    "print(\"SPARK_APP: Symlink Manifest file generated\")"
   ]
  },
  {
   "cell_type": "code",
   "execution_count": null,
   "id": "4d8d0a06-3578-463d-996c-b279cdfc0bc8",
   "metadata": {},
   "outputs": [],
   "source": [
    "spark.stop()"
   ]
  },
  {
   "cell_type": "code",
   "execution_count": null,
   "id": "f4c5e16f-9066-419c-8631-5b6cb0df5d46",
   "metadata": {},
   "outputs": [],
   "source": []
  }
 ],
 "metadata": {
  "kernelspec": {
   "display_name": "Python 3 (ipykernel)",
   "language": "python",
   "name": "python3"
  },
  "language_info": {
   "codemirror_mode": {
    "name": "ipython",
    "version": 3
   },
   "file_extension": ".py",
   "mimetype": "text/x-python",
   "name": "python",
   "nbconvert_exporter": "python",
   "pygments_lexer": "ipython3",
   "version": "3.10.9"
  }
 },
 "nbformat": 4,
 "nbformat_minor": 5
}
