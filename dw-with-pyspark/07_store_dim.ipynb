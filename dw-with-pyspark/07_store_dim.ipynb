{
 "cells": [
  {
   "cell_type": "code",
   "execution_count": 1,
   "id": "98bc8f3e-0ae6-49e4-b2a3-bcda1dd7945d",
   "metadata": {},
   "outputs": [],
   "source": [
    "# Script to Load Dimesion"
   ]
  },
  {
   "cell_type": "code",
   "execution_count": 12,
   "id": "c7185fc6-2075-4b93-ba36-d6a1ad646b87",
   "metadata": {},
   "outputs": [],
   "source": [
    "# Import required libraries\n",
    "import sys\n",
    "from lib.spark_session import get_spark_session\n",
    "from lib.utils import date_data, get_string_cols, get_rundate\n",
    "from lib.job_control import insert_log, get_max_timestamp\n",
    "from pyspark.sql import SparkSession, DataFrame\n",
    "from pyspark.sql.functions import current_timestamp, expr, to_date, date_format, udf\n",
    "from pyspark.sql.types import StringType\n",
    "from datetime import datetime\n",
    "from delta import DeltaTable\n",
    "import uuid"
   ]
  },
  {
   "cell_type": "code",
   "execution_count": 5,
   "id": "252acce6-da40-4e7e-a63b-ebfa35bba4e3",
   "metadata": {},
   "outputs": [],
   "source": [
    "# JOB Parameters\n",
    "rundate = get_rundate()\n",
    "schema_name = \"edw\"\n",
    "table_name = \"dim_store\"\n",
    "table_full_name = f\"{schema_name}.{table_name}\"\n",
    "staging_table_full_name = \"edw_stg.dim_store_stg\"\n",
    "print(\"SPARK_APP: JOB triggered for rundate - \" + rundate)"
   ]
  },
  {
   "cell_type": "code",
   "execution_count": 6,
   "id": "c1262a86-8478-4b74-8973-b7825eb26a29",
   "metadata": {},
   "outputs": [
    {
     "name": "stdout",
     "output_type": "stream",
     "text": [
      "SPARK_APP: Spark UI - http://46346aae9d54:4040\n"
     ]
    }
   ],
   "source": [
    "# Generate Spark Session\n",
    "spark: SparkSession = get_spark_session(f\"Dimension load - {table_full_name}\")\n",
    "print(\"SPARK_APP: Spark UI - \" + spark.sparkContext.uiWebUrl)"
   ]
  },
  {
   "cell_type": "code",
   "execution_count": 7,
   "id": "605fde1b-96c0-4e58-a5a9-2448e6831416",
   "metadata": {},
   "outputs": [],
   "source": [
    "# Spark Configs\n",
    "spark.conf.set(\"spark.sql.shuffle.partitions\", 8)"
   ]
  },
  {
   "cell_type": "code",
   "execution_count": 8,
   "id": "39ed0752-cdfe-4b2e-8cda-485057f44761",
   "metadata": {},
   "outputs": [
    {
     "name": "stdout",
     "output_type": "stream",
     "text": [
      "SPARK_APP: Staging Data Count - 8\n",
      "SPARK_APP: Printing Staging Schema --\n",
      "root\n",
      " |-- store_id: string (nullable = true)\n",
      " |-- store_name: string (nullable = true)\n",
      " |-- address: string (nullable = true)\n",
      " |-- city: string (nullable = true)\n",
      " |-- state: string (nullable = true)\n",
      " |-- zip_code: string (nullable = true)\n",
      " |-- phone_number: string (nullable = true)\n",
      " |-- insert_dt: timestamp (nullable = true)\n",
      " |-- rundate: string (nullable = true)\n",
      " |-- update_dt: timestamp (nullable = true)\n",
      "\n"
     ]
    }
   ],
   "source": [
    "# Read data from Staging\n",
    "df_stg = spark \\\n",
    "    .read \\\n",
    "    .table(staging_table_full_name)\n",
    "\n",
    "print(\"SPARK_APP: Staging Data Count - \" + str(df_stg.count()))\n",
    "print(\"SPARK_APP: Printing Staging Schema --\")\n",
    "df_stg.printSchema()"
   ]
  },
  {
   "cell_type": "code",
   "execution_count": 13,
   "id": "861d50da-f6bc-4aa2-974b-8ff577b283b5",
   "metadata": {},
   "outputs": [],
   "source": [
    "# Generated uuid UDF for Surrogate Key\n",
    "uuidUDF = udf(lambda : str(uuid.uuid4()),StringType())"
   ]
  },
  {
   "cell_type": "code",
   "execution_count": 14,
   "id": "65954861-dfd5-414f-957f-b152bddf8253",
   "metadata": {},
   "outputs": [
    {
     "name": "stdout",
     "output_type": "stream",
     "text": [
      "SPARK_APP: Dim Temp Data Count - 8\n",
      "SPARK_APP: Printing Dim Temp Schema --\n",
      "root\n",
      " |-- store_id: string (nullable = true)\n",
      " |-- store_name: string (nullable = true)\n",
      " |-- address: string (nullable = true)\n",
      " |-- city: string (nullable = true)\n",
      " |-- state: string (nullable = true)\n",
      " |-- zip_code: string (nullable = true)\n",
      " |-- phone_number: string (nullable = true)\n",
      " |-- insert_dt: timestamp (nullable = true)\n",
      " |-- rundate: string (nullable = true)\n",
      " |-- update_dt: timestamp (nullable = true)\n",
      " |-- row_wid: string (nullable = true)\n",
      "\n"
     ]
    }
   ],
   "source": [
    "# Generate SURROGATE KEYs\n",
    "df_dim_temp = df_stg.withColumn(\"row_wid\", uuidUDF())\n",
    "\n",
    "print(\"SPARK_APP: Dim Temp Data Count - \" + str(df_dim_temp.count()))\n",
    "print(\"SPARK_APP: Printing Dim Temp Schema --\")\n",
    "df_dim_temp.printSchema()"
   ]
  },
  {
   "cell_type": "code",
   "execution_count": 17,
   "id": "49476cac-e0d1-4815-bee8-b1749248fe53",
   "metadata": {},
   "outputs": [],
   "source": [
    "# Get the delta table for Upserts (SCD1)\n",
    "dt_dim = DeltaTable.forName(spark, table_full_name)\n",
    "\n",
    "# Validate if the load is full load\n",
    "if get_max_timestamp(spark, schema_name, table_name) == \"1900-01-01 00:00:00.000000\":\n",
    "    print(\"SPARK_APP: Table is set for full load\") \n",
    "    # Truncate the Dimension table\n",
    "    spark.conf.set(\"spark.databricks.delta.retentionDurationCheck.enabled\", False)\n",
    "    dt_dim.delete(f\"1=1\")\n",
    "    dt_dim.vacuum(0)\n",
    "    \n",
    "# Create the UPSERT logic\n",
    "dt_dim.alias(\"dim_store\") \\\n",
    "    .merge(df_dim_temp.alias(\"dim_temp\"), \"dim_store.store_id = dim_temp.store_id\") \\\n",
    "    .whenMatchedUpdate(set =\n",
    "        {\n",
    "           \"store_name\" : \"dim_temp.store_name\",\n",
    "            \"address\" : \"dim_temp.address\",\n",
    "            \"city\" : \"dim_temp.city\",\n",
    "            \"state\" : \"dim_temp.state\",\n",
    "            \"zip_code\" : \"dim_temp.zip_code\",\n",
    "            \"phone_number\" : \"dim_temp.phone_number\",\n",
    "            \"rundate\" : \"dim_temp.rundate\",\n",
    "            \"update_dt\" : \"dim_temp.update_dt\"\n",
    "        }  \n",
    "    ) \\\n",
    "    .whenNotMatchedInsertAll() \\\n",
    "    .execute()"
   ]
  },
  {
   "cell_type": "code",
   "execution_count": 18,
   "id": "a1d2cc29-0b8b-47f7-aea2-dbae3114dffd",
   "metadata": {},
   "outputs": [
    {
     "name": "stdout",
     "output_type": "stream",
     "text": [
      "SPARK_APP: Update JOB Control Log\n"
     ]
    }
   ],
   "source": [
    "# Add job details in JOB CONTROL\n",
    "insert_log(spark, schema_name, table_name, datetime.now(), rundate)\n",
    "print(\"SPARK_APP: Update JOB Control Log\")"
   ]
  },
  {
   "cell_type": "code",
   "execution_count": 19,
   "id": "1f57934a-68df-4f96-bc6c-6e0d51a1a784",
   "metadata": {},
   "outputs": [
    {
     "name": "stdout",
     "output_type": "stream",
     "text": [
      "+-----------+----------+-------------------------+--------+--------------------------+\n",
      "|schema_name|table_name|max_timestamp            |rundate |insert_dt                 |\n",
      "+-----------+----------+-------------------------+--------+--------------------------+\n",
      "|edw        |dim_store |2023-02-05 09:16:31.76849|20220101|2023-02-05 09:16:33.547821|\n",
      "+-----------+----------+-------------------------+--------+--------------------------+\n",
      "\n"
     ]
    }
   ],
   "source": [
    "spark.sql(f\"select * from edw.job_control where table_name = '{table_name}' order by insert_dt desc limit 1\").show(truncate=False)"
   ]
  },
  {
   "cell_type": "code",
   "execution_count": 20,
   "id": "f1185591-59b4-4dd9-b726-bddb08d0ba21",
   "metadata": {},
   "outputs": [
    {
     "name": "stdout",
     "output_type": "stream",
     "text": [
      "+-------+---------------+---------------------+--------------------+-------------+\n",
      "|version|executionTimeMs|numTargetRowsInserted|numTargetRowsUpdated|numOutputRows|\n",
      "+-------+---------------+---------------------+--------------------+-------------+\n",
      "|1      |5090           |8                    |0                   |8            |\n",
      "+-------+---------------+---------------------+--------------------+-------------+\n",
      "\n"
     ]
    }
   ],
   "source": [
    "# Get the logs from delta table version\n",
    "dt_dim.history().limit(1).select(\"version\",\"operationMetrics.executionTimeMs\", \n",
    "                                 \"operationMetrics.numTargetRowsInserted\",\n",
    "                                \"operationMetrics.numTargetRowsUpdated\",\n",
    "                                \"operationMetrics.numOutputRows\").show(1, False)"
   ]
  },
  {
   "cell_type": "code",
   "execution_count": 21,
   "id": "e18c4b13-7a14-41c5-af42-e36057155cf2",
   "metadata": {},
   "outputs": [
    {
     "name": "stdout",
     "output_type": "stream",
     "text": [
      "SPARK_APP: Symlink Manifest file generated\n"
     ]
    }
   ],
   "source": [
    "# Generate Symlink manifest for Athena Access\n",
    "dt = DeltaTable.forName(spark, table_full_name)\n",
    "dt.generate(\"symlink_format_manifest\")\n",
    "print(\"SPARK_APP: Symlink Manifest file generated\")"
   ]
  },
  {
   "cell_type": "code",
   "execution_count": 13,
   "id": "2f40b7c4-9858-488f-b539-a27468db70a0",
   "metadata": {},
   "outputs": [],
   "source": [
    "spark.stop()"
   ]
  },
  {
   "cell_type": "code",
   "execution_count": null,
   "id": "3c6f5001-d48b-43a4-867c-7f5cc992179c",
   "metadata": {},
   "outputs": [],
   "source": []
  }
 ],
 "metadata": {
  "kernelspec": {
   "display_name": "Python 3 (ipykernel)",
   "language": "python",
   "name": "python3"
  },
  "language_info": {
   "codemirror_mode": {
    "name": "ipython",
    "version": 3
   },
   "file_extension": ".py",
   "mimetype": "text/x-python",
   "name": "python",
   "nbconvert_exporter": "python",
   "pygments_lexer": "ipython3",
   "version": "3.10.9"
  }
 },
 "nbformat": 4,
 "nbformat_minor": 5
}
